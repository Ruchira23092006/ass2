{
 "cells": [
  {
   "cell_type": "code",
   "execution_count": null,
   "id": "7d0ed4c9-5f64-4f8b-8242-224e4f46da17",
   "metadata": {},
   "outputs": [],
   "source": [
    "Q1. How do you comment code in Python? What are the different types of comments?\n",
    "Q2. What are variables in Python? How do you declare and assign values to variables?\n",
    "Q3. How do you convert one data type to another in Python?\n",
    "Q4. How do you write and execute a Python script from the command line?\n",
    "Q5. Given a list my_list = [1, 2, 3, 4, 5], write the code to slice the list and obtain the sub-list [2, 3].\n",
    "Q6. What is a complex number in mathematics, and how is it represented in Python?\n",
    "Q7. What is the correct way to declare a variable named age and assign the value 25 to it?\n",
    "Q8. Declare a variable named price and assign the value 9.99 to it. What data type does this variable\n",
    "belong to?\n",
    "Q9. Create a variable named name and assign your full name to it as a string. How would you print the\n",
    "value of this variable?\n",
    "Q10. Given the string \"Hello, World!\", extract the substring \"World\".\n",
    "Q11. Create a variable named \"is_student\" and assign it a boolean value indicating whether you are\n",
    "currently a student or not."
   ]
  },
  {
   "cell_type": "code",
   "execution_count": null,
   "id": "77018a4c-103f-4b23-a35f-7a1218c4b05b",
   "metadata": {},
   "outputs": [],
   "source": [
    "Ans1: Code is commented in python using a hash symbol.\n",
    "There are three types of comments in Python:\n",
    "\n",
    "Single line Comments\n",
    "Multiline Comments\n",
    "String Literals\n",
    "Docstring Comments\n",
    "\n",
    "A single-line comment starts with # and extends up to the end of the line. \n",
    "eg: name=\"ruchira\"\n",
    "# print name\n",
    "\n",
    "Multiline comments can be written by using the hash (#) symbol at the beginning of each \n",
    "line.\n",
    "# This is an example of a multiline comment\n",
    "# created using multiple single-line commenced\n",
    "# The code prints the text Hello World\n",
    "print(\"Hello, World!\")\n",
    "\n",
    "Python, whose usual string literals do not allow literal newlines, instead has a special\n",
    "form of string, designed for multiline literals, called triple quoting. These use a \n",
    "tripled delimiter, either ''' or \"\"\" .These literals are especially used for inline\n",
    "documentation, known as docstrings.\n",
    "\n",
    "'''This is an example \n",
    "of multiline comment'''\n",
    "print(\"Hello, World!\")"
   ]
  },
  {
   "cell_type": "code",
   "execution_count": null,
   "id": "0878bfe1-c4dd-4943-91c4-28a690c4a885",
   "metadata": {},
   "outputs": [],
   "source": [
    "Ans2: To create a variable, you just assign it a value and then start using it.\n",
    "Assignment is done with a single equals sign ( = ).\n",
    "\n",
    "a = 5\n",
    " \n",
    "# printing value of a\n",
    "print (\"The value of a is: \" + str(a))"
   ]
  },
  {
   "cell_type": "code",
   "execution_count": null,
   "id": "60a6b930-18e7-49cc-9307-871bbc9b1b2e",
   "metadata": {},
   "outputs": [],
   "source": [
    "Ans 3: Floating Point to Integer\n",
    "A floating-point can be converted to an integer using the int() function. \n",
    "To do this pass a floating-point inside the int() method.\n",
    "\n",
    "\n",
    "f = 10.0\n",
    " \n",
    "# Converting to integer\n",
    "n = int(f)\n",
    "print(n)\n",
    "print(type(n))\n",
    "\n",
    "Integer to Floating Point\n",
    "An integer can be converted to float using the float() method. \n",
    "To do this pass an integer inside the float() method.\n",
    "n = 10\n",
    " \n",
    "# Converting to float\n",
    "f = float(n)\n",
    "print(f)\n",
    "print(type(f))\n",
    "\n",
    "n Python, Both tuple and list can be converted to one another.\n",
    "It can be done by using the tuple() and list() method. \n",
    "# Converting to tuple\n",
    "T = tuple(l)\n",
    "print(T)\n",
    "print(type(T))\n",
    " \n",
    "# Converting to list\n",
    "L = list(t)\n",
    "print(L)\n",
    "print(type(L))\n",
    "\n",
    "\n"
   ]
  },
  {
   "cell_type": "code",
   "execution_count": null,
   "id": "98c665b6-532a-48dc-ace6-0cc493f4daac",
   "metadata": {},
   "outputs": [],
   "source": [
    "Ans4: In Python programming, we write programs in plain text files. By convention, files containing\n",
    "Python code use the .py extension, and there’s no distinction between scripts or executable \n",
    "programs and modules. All of them will use the same extension.\n",
    "To create a Python script, you can use any Python-friendly code editor or\n",
    "IDE (integrated development environment).\n",
    "\n",
    "On Windows, you can also run Python scripts by simply entering the name of the file containing the \n",
    "executable code at the command line:\n",
    "\n",
    "PS> .\\hello.py\n",
    "Once you’ve written the path to your script and pressed Enter,\n",
    "you’ll note that a new terminal window appears on your screen for a few seconds,\n",
    "showing the script output. "
   ]
  },
  {
   "cell_type": "code",
   "execution_count": null,
   "id": "5ace5084-f493-49ee-9a1c-6179ebf2e45e",
   "metadata": {},
   "outputs": [],
   "source": [
    "#ANS 5"
   ]
  },
  {
   "cell_type": "code",
   "execution_count": 2,
   "id": "b32f43f0-600f-41bb-b8dc-2c9758b24a90",
   "metadata": {},
   "outputs": [
    {
     "name": "stdout",
     "output_type": "stream",
     "text": [
      "[2, 3]\n"
     ]
    }
   ],
   "source": [
    "my_list = [1, 2, 3, 4, 5]\n",
    "new_list=my_list[1:3]\n",
    "print(new_list)"
   ]
  },
  {
   "cell_type": "code",
   "execution_count": null,
   "id": "49c76d82-aed6-4f48-9db5-aa2bcd334ae5",
   "metadata": {},
   "outputs": [],
   "source": [
    "#ANS6"
   ]
  },
  {
   "cell_type": "code",
   "execution_count": null,
   "id": "1fc223fa-67a0-4f70-ab69-09c98d370b56",
   "metadata": {},
   "outputs": [],
   "source": [
    "Complex number is a number which has both real and imaginary parts. It is represented in python as:\n",
    "The complex() method takes two parameters, namely the real and imaginary values. The complex in python uses the provided parameters and returns a complex number.\n",
    "\n",
    "Syntax of complex() in Python\n",
    "The syntax of the complex in python is straightforward, it takes two parameters(the real value and the imaginary value)\n",
    "\n",
    "complex(real, imaginary)  "
   ]
  },
  {
   "cell_type": "code",
   "execution_count": 3,
   "id": "25c4af0d-75a1-4a69-b067-9dc26248c92e",
   "metadata": {},
   "outputs": [
    {
     "name": "stdout",
     "output_type": "stream",
     "text": [
      "Complex number formed:  (10+7j)\n"
     ]
    }
   ],
   "source": [
    "real = 10\n",
    "imaginary = 7\n",
    "complex_number = complex(real, imaginary)\n",
    "print(\"Complex number formed: \", complex_number)"
   ]
  },
  {
   "cell_type": "code",
   "execution_count": null,
   "id": "082f55a9-ac57-45ae-828b-c269cecad800",
   "metadata": {},
   "outputs": [],
   "source": [
    "#Ans7 we don't need to declare the variable type explicitly;\n",
    "#it will be inferred based on the assigned value."
   ]
  },
  {
   "cell_type": "code",
   "execution_count": 4,
   "id": "7fce3fed-496d-4b59-8d45-fa2726f27baa",
   "metadata": {},
   "outputs": [],
   "source": [
    "age= 25"
   ]
  },
  {
   "cell_type": "code",
   "execution_count": 5,
   "id": "615c15d9-d643-472e-9fc3-4e82e439a3b7",
   "metadata": {},
   "outputs": [
    {
     "data": {
      "text/plain": [
       "int"
      ]
     },
     "execution_count": 5,
     "metadata": {},
     "output_type": "execute_result"
    }
   ],
   "source": [
    "type(age)\n"
   ]
  },
  {
   "cell_type": "code",
   "execution_count": 6,
   "id": "c1239039-df91-46d5-8f70-3db3ae5b7d6a",
   "metadata": {},
   "outputs": [],
   "source": [
    "#Ans8 variable price belongs to float data type"
   ]
  },
  {
   "cell_type": "code",
   "execution_count": 7,
   "id": "9d7502a5-5356-4dd7-a1f8-120adbac588c",
   "metadata": {},
   "outputs": [],
   "source": [
    "price=9.99"
   ]
  },
  {
   "cell_type": "code",
   "execution_count": 8,
   "id": "fa2dd32c-5c8d-4228-8a79-758b987748d7",
   "metadata": {},
   "outputs": [
    {
     "data": {
      "text/plain": [
       "float"
      ]
     },
     "execution_count": 8,
     "metadata": {},
     "output_type": "execute_result"
    }
   ],
   "source": [
    "type(price)\n"
   ]
  },
  {
   "cell_type": "code",
   "execution_count": null,
   "id": "92420869-949a-473d-bcd9-0668f149bb80",
   "metadata": {},
   "outputs": [],
   "source": [
    "#Ans9\n"
   ]
  },
  {
   "cell_type": "code",
   "execution_count": 9,
   "id": "2f160739-7d89-40c2-bf16-1fcbd7652259",
   "metadata": {},
   "outputs": [
    {
     "name": "stdout",
     "output_type": "stream",
     "text": [
      "Ruchira Batra\n"
     ]
    }
   ],
   "source": [
    "name=\"Ruchira Batra\"\n",
    "print(name)"
   ]
  },
  {
   "cell_type": "code",
   "execution_count": 10,
   "id": "e7714326-b28d-4126-8491-68685ebea5f2",
   "metadata": {},
   "outputs": [],
   "source": [
    "#Ans10"
   ]
  },
  {
   "cell_type": "code",
   "execution_count": 15,
   "id": "e04f7024-1762-4e25-9491-095d608faa0f",
   "metadata": {},
   "outputs": [
    {
     "name": "stdout",
     "output_type": "stream",
     "text": [
      "World\n"
     ]
    }
   ],
   "source": [
    "a=\"Hello, World!\"\n",
    "sub_string=a[7:12]\n",
    "print(sub_string)"
   ]
  },
  {
   "cell_type": "code",
   "execution_count": null,
   "id": "8ee65420-5ef0-43cb-b115-dd253e19eea0",
   "metadata": {},
   "outputs": [],
   "source": [
    "#Ans 11"
   ]
  },
  {
   "cell_type": "code",
   "execution_count": 19,
   "id": "4ec343b1-68b6-482b-993f-2922465e4cf7",
   "metadata": {},
   "outputs": [
    {
     "name": "stdout",
     "output_type": "stream",
     "text": [
      "You are currently a student\n"
     ]
    }
   ],
   "source": [
    "\n",
    "is_student= True\n",
    "type(is_student)\n",
    "print(\"You are currently a student\") "
   ]
  },
  {
   "cell_type": "code",
   "execution_count": null,
   "id": "96747c47-09bf-4d23-bcc9-d002d055bac1",
   "metadata": {},
   "outputs": [],
   "source": []
  }
 ],
 "metadata": {
  "kernelspec": {
   "display_name": "Python 3 (ipykernel)",
   "language": "python",
   "name": "python3"
  },
  "language_info": {
   "codemirror_mode": {
    "name": "ipython",
    "version": 3
   },
   "file_extension": ".py",
   "mimetype": "text/x-python",
   "name": "python",
   "nbconvert_exporter": "python",
   "pygments_lexer": "ipython3",
   "version": "3.10.8"
  }
 },
 "nbformat": 4,
 "nbformat_minor": 5
}
